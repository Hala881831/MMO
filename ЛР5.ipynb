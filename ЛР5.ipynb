{
  "nbformat": 4,
  "nbformat_minor": 0,
  "metadata": {
    "colab": {
      "provenance": []
    },
    "kernelspec": {
      "name": "python3",
      "display_name": "Python 3"
    },
    "language_info": {
      "name": "python"
    }
  },
  "cells": [
    {
      "cell_type": "markdown",
      "source": [
        "**Лабораторная работа 5**"
      ],
      "metadata": {
        "id": "C2kWoSJ-kKPt"
      }
    },
    {
      "cell_type": "markdown",
      "source": [
        "**Хаммуд Хала. ИУ5И-21М**"
      ],
      "metadata": {
        "id": "nuhIk6FUkqMT"
      }
    },
    {
      "cell_type": "markdown",
      "source": [
        "**Предобработка текста для задачи распознавания усталости**\n"
      ],
      "metadata": {
        "id": "w0eotoiTknKl"
      }
    },
    {
      "cell_type": "markdown",
      "source": [
        "**Цель лабораторной работы:**\n",
        "Изучение базовых методов предобработки текстов и их применение для распознавания признаков усталости на основе текстового описания состояний человека.\n",
        "\n"
      ],
      "metadata": {
        "id": "41VwfbH6kpRt"
      }
    },
    {
      "cell_type": "markdown",
      "source": [
        "**Описание задания:**\n",
        "В рамках данной лабораторной работы предлагается использовать предобработку текста для анализа коротких описаний, характеризующих уровень усталости человека (например, \"глаза полуоткрыты, нет улыбки, голова наклонена\").\n",
        "\n",
        "Для заданного текста требуется выполнить следующие этапы:\n",
        "\n",
        "**Токенизация** — разбить текст на отдельные слова (токены).\n",
        "\n",
        "**Частеречная разметка** — определить часть речи для каждого слова.\n",
        "\n",
        "**Лемматизация** — привести слова к их начальной (словарной) форме.\n",
        "\n",
        "**Распознавание именованных сущностей**— выявить важные ключевые объекты (например, части лица, состояния).\n",
        "\n",
        "**Синтаксический разбор предложения** — построить грамматическую структуру текста.\n",
        "\n"
      ],
      "metadata": {
        "id": "xlWzWQGckzLK"
      }
    },
    {
      "cell_type": "markdown",
      "source": [
        "**Пример входного текста:**"
      ],
      "metadata": {
        "id": "EPNrjrU0lBma"
      }
    },
    {
      "cell_type": "markdown",
      "source": [
        "Глаза полуоткрыты, нет улыбки, голова опущена вперёд.\n"
      ],
      "metadata": {
        "id": "yn84JibelKIY"
      }
    },
    {
      "cell_type": "markdown",
      "source": [
        "**Текст программы**"
      ],
      "metadata": {
        "id": "WSYMD_11lMd1"
      }
    },
    {
      "cell_type": "code",
      "source": [
        "# Установка и подключение библиотеки\n",
        "!pip install spacy\n",
        "!python -m spacy download ru_core_news_sm\n",
        "\n",
        "import spacy\n",
        "\n",
        "# Загрузка русской модели\n",
        "nlp = spacy.load('ru_core_news_sm')\n",
        "\n",
        "# Текст, описывающий признаки усталости\n",
        "text = \"Глаза полуоткрыты, нет улыбки, голова опущена вперёд. Пациент Иван Иванов испытывает сильную усталость.\"\n",
        "\n",
        "# Анализ текста\n",
        "doc = nlp(text)\n",
        "\n",
        "# == Токены ==\n",
        "print(\"== Токены ==\")\n",
        "print(\" | \".join([token.text for token in doc]))\n",
        "\n",
        "# == Часть речи (POS) ==\n",
        "print(\"\\n== Части речи (POS) ==\")\n",
        "for token in doc:\n",
        "    print(f\"{token.text:<15} — {token.pos_}\")\n",
        "\n",
        "# == Леммы ==\n",
        "print(\"\\n== Леммы ==\")\n",
        "for token in doc:\n",
        "    print(f\"{token.text:<15} → {token.lemma_}\")\n",
        "\n",
        "# == Именованные сущности (NER) ==\n",
        "print(\"\\n== Именованные сущности ==\")\n",
        "for ent in doc.ents:\n",
        "    print(ent.text, \"-\", ent.label_)\n",
        "\n",
        "# == Синтаксический разбор ==\n",
        "print(\"\\n== Синтаксические зависимости ==\")\n",
        "for token in doc:\n",
        "    print(f\"{token.text:<15} → {token.dep_} (голова = {token.head.text})\")\n"
      ],
      "metadata": {
        "colab": {
          "base_uri": "https://localhost:8080/"
        },
        "id": "lgxOfTEenlJ6",
        "outputId": "8e3f1aea-6058-4f7f-b7ab-13d75a038ef1"
      },
      "execution_count": 4,
      "outputs": [
        {
          "output_type": "stream",
          "name": "stdout",
          "text": [
            "Requirement already satisfied: spacy in /usr/local/lib/python3.11/dist-packages (3.8.7)\n",
            "Requirement already satisfied: spacy-legacy<3.1.0,>=3.0.11 in /usr/local/lib/python3.11/dist-packages (from spacy) (3.0.12)\n",
            "Requirement already satisfied: spacy-loggers<2.0.0,>=1.0.0 in /usr/local/lib/python3.11/dist-packages (from spacy) (1.0.5)\n",
            "Requirement already satisfied: murmurhash<1.1.0,>=0.28.0 in /usr/local/lib/python3.11/dist-packages (from spacy) (1.0.13)\n",
            "Requirement already satisfied: cymem<2.1.0,>=2.0.2 in /usr/local/lib/python3.11/dist-packages (from spacy) (2.0.11)\n",
            "Requirement already satisfied: preshed<3.1.0,>=3.0.2 in /usr/local/lib/python3.11/dist-packages (from spacy) (3.0.10)\n",
            "Requirement already satisfied: thinc<8.4.0,>=8.3.4 in /usr/local/lib/python3.11/dist-packages (from spacy) (8.3.6)\n",
            "Requirement already satisfied: wasabi<1.2.0,>=0.9.1 in /usr/local/lib/python3.11/dist-packages (from spacy) (1.1.3)\n",
            "Requirement already satisfied: srsly<3.0.0,>=2.4.3 in /usr/local/lib/python3.11/dist-packages (from spacy) (2.5.1)\n",
            "Requirement already satisfied: catalogue<2.1.0,>=2.0.6 in /usr/local/lib/python3.11/dist-packages (from spacy) (2.0.10)\n",
            "Requirement already satisfied: weasel<0.5.0,>=0.1.0 in /usr/local/lib/python3.11/dist-packages (from spacy) (0.4.1)\n",
            "Requirement already satisfied: typer<1.0.0,>=0.3.0 in /usr/local/lib/python3.11/dist-packages (from spacy) (0.16.0)\n",
            "Requirement already satisfied: tqdm<5.0.0,>=4.38.0 in /usr/local/lib/python3.11/dist-packages (from spacy) (4.67.1)\n",
            "Requirement already satisfied: numpy>=1.19.0 in /usr/local/lib/python3.11/dist-packages (from spacy) (2.0.2)\n",
            "Requirement already satisfied: requests<3.0.0,>=2.13.0 in /usr/local/lib/python3.11/dist-packages (from spacy) (2.32.3)\n",
            "Requirement already satisfied: pydantic!=1.8,!=1.8.1,<3.0.0,>=1.7.4 in /usr/local/lib/python3.11/dist-packages (from spacy) (2.11.5)\n",
            "Requirement already satisfied: jinja2 in /usr/local/lib/python3.11/dist-packages (from spacy) (3.1.6)\n",
            "Requirement already satisfied: setuptools in /usr/local/lib/python3.11/dist-packages (from spacy) (75.2.0)\n",
            "Requirement already satisfied: packaging>=20.0 in /usr/local/lib/python3.11/dist-packages (from spacy) (24.2)\n",
            "Requirement already satisfied: langcodes<4.0.0,>=3.2.0 in /usr/local/lib/python3.11/dist-packages (from spacy) (3.5.0)\n",
            "Requirement already satisfied: language-data>=1.2 in /usr/local/lib/python3.11/dist-packages (from langcodes<4.0.0,>=3.2.0->spacy) (1.3.0)\n",
            "Requirement already satisfied: annotated-types>=0.6.0 in /usr/local/lib/python3.11/dist-packages (from pydantic!=1.8,!=1.8.1,<3.0.0,>=1.7.4->spacy) (0.7.0)\n",
            "Requirement already satisfied: pydantic-core==2.33.2 in /usr/local/lib/python3.11/dist-packages (from pydantic!=1.8,!=1.8.1,<3.0.0,>=1.7.4->spacy) (2.33.2)\n",
            "Requirement already satisfied: typing-extensions>=4.12.2 in /usr/local/lib/python3.11/dist-packages (from pydantic!=1.8,!=1.8.1,<3.0.0,>=1.7.4->spacy) (4.14.0)\n",
            "Requirement already satisfied: typing-inspection>=0.4.0 in /usr/local/lib/python3.11/dist-packages (from pydantic!=1.8,!=1.8.1,<3.0.0,>=1.7.4->spacy) (0.4.1)\n",
            "Requirement already satisfied: charset-normalizer<4,>=2 in /usr/local/lib/python3.11/dist-packages (from requests<3.0.0,>=2.13.0->spacy) (3.4.2)\n",
            "Requirement already satisfied: idna<4,>=2.5 in /usr/local/lib/python3.11/dist-packages (from requests<3.0.0,>=2.13.0->spacy) (3.10)\n",
            "Requirement already satisfied: urllib3<3,>=1.21.1 in /usr/local/lib/python3.11/dist-packages (from requests<3.0.0,>=2.13.0->spacy) (2.4.0)\n",
            "Requirement already satisfied: certifi>=2017.4.17 in /usr/local/lib/python3.11/dist-packages (from requests<3.0.0,>=2.13.0->spacy) (2025.4.26)\n",
            "Requirement already satisfied: blis<1.4.0,>=1.3.0 in /usr/local/lib/python3.11/dist-packages (from thinc<8.4.0,>=8.3.4->spacy) (1.3.0)\n",
            "Requirement already satisfied: confection<1.0.0,>=0.0.1 in /usr/local/lib/python3.11/dist-packages (from thinc<8.4.0,>=8.3.4->spacy) (0.1.5)\n",
            "Requirement already satisfied: click>=8.0.0 in /usr/local/lib/python3.11/dist-packages (from typer<1.0.0,>=0.3.0->spacy) (8.2.1)\n",
            "Requirement already satisfied: shellingham>=1.3.0 in /usr/local/lib/python3.11/dist-packages (from typer<1.0.0,>=0.3.0->spacy) (1.5.4)\n",
            "Requirement already satisfied: rich>=10.11.0 in /usr/local/lib/python3.11/dist-packages (from typer<1.0.0,>=0.3.0->spacy) (13.9.4)\n",
            "Requirement already satisfied: cloudpathlib<1.0.0,>=0.7.0 in /usr/local/lib/python3.11/dist-packages (from weasel<0.5.0,>=0.1.0->spacy) (0.21.1)\n",
            "Requirement already satisfied: smart-open<8.0.0,>=5.2.1 in /usr/local/lib/python3.11/dist-packages (from weasel<0.5.0,>=0.1.0->spacy) (7.1.0)\n",
            "Requirement already satisfied: MarkupSafe>=2.0 in /usr/local/lib/python3.11/dist-packages (from jinja2->spacy) (3.0.2)\n",
            "Requirement already satisfied: marisa-trie>=1.1.0 in /usr/local/lib/python3.11/dist-packages (from language-data>=1.2->langcodes<4.0.0,>=3.2.0->spacy) (1.2.1)\n",
            "Requirement already satisfied: markdown-it-py>=2.2.0 in /usr/local/lib/python3.11/dist-packages (from rich>=10.11.0->typer<1.0.0,>=0.3.0->spacy) (3.0.0)\n",
            "Requirement already satisfied: pygments<3.0.0,>=2.13.0 in /usr/local/lib/python3.11/dist-packages (from rich>=10.11.0->typer<1.0.0,>=0.3.0->spacy) (2.19.1)\n",
            "Requirement already satisfied: wrapt in /usr/local/lib/python3.11/dist-packages (from smart-open<8.0.0,>=5.2.1->weasel<0.5.0,>=0.1.0->spacy) (1.17.2)\n",
            "Requirement already satisfied: mdurl~=0.1 in /usr/local/lib/python3.11/dist-packages (from markdown-it-py>=2.2.0->rich>=10.11.0->typer<1.0.0,>=0.3.0->spacy) (0.1.2)\n",
            "Collecting ru-core-news-sm==3.8.0\n",
            "  Downloading https://github.com/explosion/spacy-models/releases/download/ru_core_news_sm-3.8.0/ru_core_news_sm-3.8.0-py3-none-any.whl (15.3 MB)\n",
            "\u001b[2K     \u001b[90m━━━━━━━━━━━━━━━━━━━━━━━━━━━━━━━━━━━━━━━━\u001b[0m \u001b[32m15.3/15.3 MB\u001b[0m \u001b[31m55.2 MB/s\u001b[0m eta \u001b[36m0:00:00\u001b[0m\n",
            "\u001b[?25hRequirement already satisfied: pymorphy3>=1.0.0 in /usr/local/lib/python3.11/dist-packages (from ru-core-news-sm==3.8.0) (2.0.4)\n",
            "Requirement already satisfied: dawg2-python>=0.8.0 in /usr/local/lib/python3.11/dist-packages (from pymorphy3>=1.0.0->ru-core-news-sm==3.8.0) (0.9.0)\n",
            "Requirement already satisfied: pymorphy3-dicts-ru in /usr/local/lib/python3.11/dist-packages (from pymorphy3>=1.0.0->ru-core-news-sm==3.8.0) (2.4.417150.4580142)\n",
            "\u001b[38;5;2m✔ Download and installation successful\u001b[0m\n",
            "You can now load the package via spacy.load('ru_core_news_sm')\n",
            "\u001b[38;5;3m⚠ Restart to reload dependencies\u001b[0m\n",
            "If you are in a Jupyter or Colab notebook, you may need to restart Python in\n",
            "order to load all the package's dependencies. You can do this by selecting the\n",
            "'Restart kernel' or 'Restart runtime' option.\n",
            "== Токены ==\n",
            "Глаза | полуоткрыты | , | нет | улыбки | , | голова | опущена | вперёд | . | Пациент | Иван | Иванов | испытывает | сильную | усталость | .\n",
            "\n",
            "== Части речи (POS) ==\n",
            "Глаза           — NOUN\n",
            "полуоткрыты     — VERB\n",
            ",               — PUNCT\n",
            "нет             — VERB\n",
            "улыбки          — NOUN\n",
            ",               — PUNCT\n",
            "голова          — NOUN\n",
            "опущена         — VERB\n",
            "вперёд          — NOUN\n",
            ".               — PUNCT\n",
            "Пациент         — NOUN\n",
            "Иван            — PROPN\n",
            "Иванов          — PROPN\n",
            "испытывает      — VERB\n",
            "сильную         — ADJ\n",
            "усталость       — NOUN\n",
            ".               — PUNCT\n",
            "\n",
            "== Леммы ==\n",
            "Глаза           → глаз\n",
            "полуоткрыты     → полуоткрыты\n",
            ",               → ,\n",
            "нет             → нет\n",
            "улыбки          → улыбка\n",
            ",               → ,\n",
            "голова          → голова\n",
            "опущена         → опустить\n",
            "вперёд          → вперёд\n",
            ".               → .\n",
            "Пациент         → пациент\n",
            "Иван            → иван\n",
            "Иванов          → иванов\n",
            "испытывает      → испытывать\n",
            "сильную         → сильный\n",
            "усталость       → усталость\n",
            ".               → .\n",
            "\n",
            "== Именованные сущности ==\n",
            "Иван Иванов - PER\n",
            "\n",
            "== Синтаксические зависимости ==\n",
            "Глаза           → nsubj:pass (голова = полуоткрыты)\n",
            "полуоткрыты     → ROOT (голова = полуоткрыты)\n",
            ",               → punct (голова = нет)\n",
            "нет             → conj (голова = полуоткрыты)\n",
            "улыбки          → nsubj (голова = нет)\n",
            ",               → punct (голова = опущена)\n",
            "голова          → nsubj:pass (голова = опущена)\n",
            "опущена         → conj (голова = полуоткрыты)\n",
            "вперёд          → xcomp (голова = опущена)\n",
            ".               → punct (голова = полуоткрыты)\n",
            "Пациент         → nsubj (голова = испытывает)\n",
            "Иван            → appos (голова = Пациент)\n",
            "Иванов          → flat:name (голова = Иван)\n",
            "испытывает      → ROOT (голова = испытывает)\n",
            "сильную         → amod (голова = усталость)\n",
            "усталость       → obj (голова = испытывает)\n",
            ".               → punct (голова = испытывает)\n"
          ]
        }
      ]
    },
    {
      "cell_type": "markdown",
      "source": [
        "** Вывод:**"
      ],
      "metadata": {
        "id": "f57BJJmun7EG"
      }
    },
    {
      "cell_type": "markdown",
      "source": [
        "В ходе выполнения лабораторной работы был реализован этап предобработки текстов, описывающих признаки усталости. Использование инструментов обработки естественного языка (spaCy) позволило разбить текст на токены, определить часть речи, леммы, а также выявить синтаксические зависимости. Эти данные в будущем можно использовать в качестве признаков для моделей машинного обучения в задаче автоматического определения уровня усталости по описанию состояния человека.\n",
        "\n"
      ],
      "metadata": {
        "id": "E92-owTHn8uL"
      }
    }
  ]
}